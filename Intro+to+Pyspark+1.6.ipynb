{
 "cells": [
  {
   "cell_type": "markdown",
   "metadata": {},
   "source": [
    "### Using Pyspark 1.6 in Jupyter Notebook"
   ]
  },
  {
   "cell_type": "markdown",
   "metadata": {},
   "source": [
    "This is an introductory notebook for a beginners usage in Pyspark via Jupyter. It covers the basic functionalities of Pyspark from how to read/write tables, to aggregation functions on dataframes and also the MLlib. I've read that the 2.0 version of Pyspark is quite different from 1.6 and there are more functions in 2.0 so once again I have to mention that the following codes are compatible with 1.6. Also, do check out the last part in the notebook if you've yet to set up Spark for more details."
   ]
  },
  {
   "cell_type": "code",
   "execution_count": 23,
   "metadata": {
    "collapsed": true
   },
   "outputs": [],
   "source": [
    "#import necessary packages and start spark and hive contexts\n",
    "from pyspark.context import SparkContext\n",
    "from pyspark.sql import HiveContext\n",
    "sqlContext = HiveContext(sc)\n",
    "\n",
    "import pandas as pd"
   ]
  },
  {
   "cell_type": "code",
   "execution_count": 25,
   "metadata": {
    "collapsed": false
   },
   "outputs": [],
   "source": [
    "#using pandas to read existing csv files in local directory\n",
    "sales = pd.read_csv('Lynda Datasets/cogsley_sales.csv')"
   ]
  },
  {
   "cell_type": "code",
   "execution_count": null,
   "metadata": {
    "collapsed": true
   },
   "outputs": [],
   "source": [
    "#save to hive \n",
    "#only neeeded if it does not exist in hive\n",
    "sales_spark.write.saveAsTable('cogsley_sales')\n",
    "\n",
    "#if exist, read using\n",
    "sqlContext.sql('select * from cogsley_sales')"
   ]
  },
  {
   "cell_type": "code",
   "execution_count": 26,
   "metadata": {
    "collapsed": true
   },
   "outputs": [],
   "source": [
    "#creating spark dataframe\n",
    "sales_spark = sqlContext.createDataFrame(sales)"
   ]
  },
  {
   "cell_type": "code",
   "execution_count": 27,
   "metadata": {
    "collapsed": false,
    "scrolled": true
   },
   "outputs": [
    {
     "name": "stdout",
     "output_type": "stream",
     "text": [
      "+-----+-------+----------+--------------+--------+-----+-----------+----+----------+------------------+--------------------+--------------------+--------------------+---------------+-------+--------------+-------+-------------------+--------------+--------------------+---------------+------------------+----------------+--------------+----------+--------+----------+\n",
      "|RowID|OrderID| OrderDate|OrderMonthYear|Quantity|Quote|DiscountPct|Rate|SaleAmount|      CustomerName|         CompanyName|              Sector|            Industry|           City|ZipCode|         State| Region|ProjectCompleteDate|DaystoComplete|          ProductKey|ProductCategory|ProductSubCategory|      Consultant|       Manager|HourlyWage|RowCount|WageMargin|\n",
      "+-----+-------+----------+--------------+--------+-----+-----------+----+----------+------------------+--------------------+--------------------+--------------------+---------------+-------+--------------+-------+-------------------+--------------+--------------------+---------------+------------------+----------------+--------------+----------+--------+----------+\n",
      "|    1|      3|2010-10-13|    2010-10-01|       6| 1200|       0.04| 200|    1152.0|Muhammed MacIntyre|             CA Inc.|          Technology|Computer Software...|  Highland Park|  60035|      Illinois|Central|         2010-10-20|             7|Development - Big...|    Development|          Big Data|      Ethan Bird| Josh Martinez|        60|       1|       0.7|\n",
      "|    2|      6|2012-02-20|    2012-02-01|       2|  280|       0.01| 140|     277.2|     Ruben Staebel| Celgene Corporation|         Health Care|Major Pharmaceuti...|        Edmonds|  98026|    Washington|   West|         2012-02-21|             1|Development - Fro...|    Development|     Front End Web|Isabella Douglas|    Bob Turner|        75|       1|      0.46|\n",
      "|    3|     32|2011-07-15|    2011-07-01|      26| 3250|       0.07| 125|    3022.5|         Liz Greer|Twenty-First Cent...|   Consumer Services| Television Services|      Elk Plain|  98387|    Washington|   West|         2011-07-17|             2|      Training - SQL|       Training|               SQL|Isabella Douglas|    Bob Turner|        75|       1|       0.4|\n",
      "|    4|     32|2011-07-15|    2011-07-01|      24| 3000|       0.09| 125|    2730.0|         Liz Greer|Twenty-First Cent...|   Consumer Services| Television Services|      Elk Plain|  98387|    Washington|   West|         2011-07-16|             1|Training - Javasc...|       Training|        Javascript| Olivia Sullivan|    Bob Turner|        53|       1|      0.58|\n",
      "|    5|     32|2011-07-15|    2011-07-01|      23| 3450|       0.04| 150|    3312.0|         Liz Greer|Twenty-First Cent...|   Consumer Services| Television Services|      Elk Plain|  98387|    Washington|   West|         2011-07-17|             2|Consulting - Mark...|     Consulting|   Market Research|   Abigail Young|    Bob Turner|        50|       1|      0.67|\n",
      "|    6|     32|2011-07-15|    2011-07-01|      15| 2250|       0.04| 150|    2160.0|         Liz Greer|Twenty-First Cent...|   Consumer Services| Television Services|     High Point|  27260|North Carolina|  South|         2011-07-16|             1|Consulting - Busi...|     Consulting|    Business Model|    Emily Taylor|Frank Mitchell|        62|       1|      0.59|\n",
      "|    7|     35|2011-10-22|    2011-10-01|      30| 3600|       0.03| 120|    3492.0|      Julie Knight| SanDisk Corporation|          Technology|Electronic Compon...|           Ames|  50010|          Iowa|Central|         2011-10-23|             1|Development - Bus...|    Development|    Business Logic|  William Bufont| Josh Martinez|        62|       1|      0.48|\n",
      "|    8|     35|2011-10-22|    2011-10-01|      14| 2100|       0.01| 150|    2079.0|      Julie Knight| SanDisk Corporation|          Technology|Electronic Compon...|           Ames|  50010|          Iowa|Central|         2011-10-24|             2|Consulting - Mark...|     Consulting|   Market Research|     Emma Watson| Josh Martinez|        67|       1|      0.55|\n",
      "|    9|     36|2011-11-02|    2011-11-01|      46| 6900|        0.1| 150|    6210.0|    Sample Manning|Cognizant Technol...|          Technology|        EDP Services|         Albany|  97321|        Oregon|   West|         2011-11-02|             0|Consulting - Mark...|     Consulting|   Market Research|       Mia Moore|    Bob Turner|        51|       1|      0.66|\n",
      "|   10|     65|2011-03-17|    2011-03-01|      32| 4800|       0.02| 150|    4704.0|    Tamara O'Brill|Symantec Corporation|          Technology|Computer Software...|   Pflugerville|  78660|         Texas|Central|         2011-03-18|             1|Consulting - Busi...|     Consulting|    Business Model| Michael Alister| Josh Martinez|        68|       1|      0.55|\n",
      "|   11|     66|2009-01-19|    2009-01-01|      41| 4920|       0.09| 120|    4477.2|     Arthur Nelson|Linear Technology...|          Technology|      Semiconductors|       Santa Fe|  87505|    New Mexico|   West|         2009-01-19|             0|Development - Bus...|    Development|    Business Logic|Alexander Edison|    Bob Turner|        70|       1|      0.42|\n",
      "|   12|     69|2009-06-03|    2009-06-01|      42| 5250|       0.09| 125|    4777.5|     Jonathan Akin|  NVIDIA Corporation|          Technology|      Semiconductors|         Garner|  27529|North Carolina|  South|         2009-06-05|             2|      Training - SQL|       Training|               SQL|      Noah Smith|Frank Mitchell|        59|       1|      0.53|\n",
      "|   13|     69|2009-06-03|    2009-06-01|      28| 3360|       0.03| 120|    3259.2|     Jonathan Akin|  NVIDIA Corporation|          Technology|      Semiconductors|         Garner|  27529|North Carolina|  South|         2009-06-05|             2|Development - Bus...|    Development|    Business Logic|      Ethan Bird|Frank Mitchell|        60|       1|       0.5|\n",
      "|   14|     70|2010-12-17|    2010-12-01|      48| 6720|       0.03| 140|    6518.4|      Helen Kimmel|          Amgen Inc.|         Health Care|Biotechnology: Bi...|    East Meadow|  11554|      New York|   East|         2010-12-22|             5|Development - Dat...|    Development|          Database|    Sophia Dixon|   Allen Young|        71|       1|      0.49|\n",
      "|   15|     70|2010-12-17|    2010-12-01|      46| 6900|       0.05| 150|    6555.0|      Helen Kimmel|          Amgen Inc.|         Health Care|Biotechnology: Bi...|    East Meadow|  11554|      New York|   East|         2010-12-22|             5|Consulting - Mark...|     Consulting|   Market Research|     Emma Watson|   Allen Young|        67|       1|      0.55|\n",
      "|   16|     96|2009-04-16|    2009-04-01|      37| 5550|       0.01| 150|    5494.5|     Keith Beeghly|  Altera Corporation|          Technology|      Semiconductors|    Little Rock|  72209|      Arkansas|  South|         2009-04-18|             2|Consulting - Mark...|     Consulting|   Market Research| Jayden Hamilton|Frank Mitchell|        71|       1|      0.53|\n",
      "|   17|     97|2010-01-28|    2010-01-01|      26| 5200|       0.03| 200|    5044.0|   Craig Donatelli|O'Reilly Automoti...|   Consumer Services|Other Specialty S...|Prescott Valley|  86314|       Arizona|   West|         2010-01-29|             1| Development - Scala|    Development|             Scala|     Daniel Tusk|    Bob Turner|        45|       1|      0.78|\n",
      "|   18|    129|2012-11-18|    2012-11-01|       4|  440|       0.09| 110|     400.4|    Pauline Wardle|        Mattel, Inc.|Consumer Non-Dura...|Recreational Prod...|          Moore|  73160|      Oklahoma|Central|         2012-11-27|             9|Development - Python|    Development|            Python|     Daniel Tusk| Josh Martinez|        45|       1|      0.59|\n",
      "|   19|    130|2012-05-07|    2012-05-01|       3|  450|       0.05| 150|     427.5|         Roy Smith|Bed Bath & Beyond...|   Consumer Services|    Home Furnishings|      Cleveland|  37311|     Tennessee|  South|         2012-05-09|             2|Consulting - Stra...|     Consulting|          Strategy|    Emily Taylor|Frank Mitchell|        62|       1|      0.59|\n",
      "|   20|    130|2012-05-07|    2012-05-01|      29| 3190|       0.02| 110|    3126.2|         Roy Smith|Bed Bath & Beyond...|   Consumer Services|    Home Furnishings|      Cleveland|  37311|     Tennessee|  South|         2012-05-08|             1|Development - Python|    Development|            Python|Alexander Edison|Frank Mitchell|        70|       1|      0.36|\n",
      "+-----+-------+----------+--------------+--------+-----+-----------+----+----------+------------------+--------------------+--------------------+--------------------+---------------+-------+--------------+-------+-------------------+--------------+--------------------+---------------+------------------+----------------+--------------+----------+--------+----------+\n",
      "only showing top 20 rows\n",
      "\n"
     ]
    }
   ],
   "source": [
    "#show first few rows of data in sales_spark\n",
    "sales_spark.show()"
   ]
  },
  {
   "cell_type": "code",
   "execution_count": 30,
   "metadata": {
    "collapsed": false
   },
   "outputs": [
    {
     "name": "stdout",
     "output_type": "stream",
     "text": [
      "root\n",
      " |-- RowID: long (nullable = true)\n",
      " |-- OrderID: long (nullable = true)\n",
      " |-- OrderDate: string (nullable = true)\n",
      " |-- OrderMonthYear: string (nullable = true)\n",
      " |-- Quantity: long (nullable = true)\n",
      " |-- Quote: long (nullable = true)\n",
      " |-- DiscountPct: double (nullable = true)\n",
      " |-- Rate: long (nullable = true)\n",
      " |-- SaleAmount: double (nullable = true)\n",
      " |-- CustomerName: string (nullable = true)\n",
      " |-- CompanyName: string (nullable = true)\n",
      " |-- Sector: string (nullable = true)\n",
      " |-- Industry: string (nullable = true)\n",
      " |-- City: string (nullable = true)\n",
      " |-- ZipCode: long (nullable = true)\n",
      " |-- State: string (nullable = true)\n",
      " |-- Region: string (nullable = true)\n",
      " |-- ProjectCompleteDate: string (nullable = true)\n",
      " |-- DaystoComplete: long (nullable = true)\n",
      " |-- ProductKey: string (nullable = true)\n",
      " |-- ProductCategory: string (nullable = true)\n",
      " |-- ProductSubCategory: string (nullable = true)\n",
      " |-- Consultant: string (nullable = true)\n",
      " |-- Manager: string (nullable = true)\n",
      " |-- HourlyWage: long (nullable = true)\n",
      " |-- RowCount: long (nullable = true)\n",
      " |-- WageMargin: double (nullable = true)\n",
      "\n"
     ]
    }
   ],
   "source": [
    "#schema of table for structured data and corresponding data type\n",
    "sales_spark.printSchema()"
   ]
  },
  {
   "cell_type": "markdown",
   "metadata": {},
   "source": [
    "### EDA & Getting to know some basic Pyspark 1.6 commands\n",
    "#### Some extra functions similar to SQL and Pandas Aggregation"
   ]
  },
  {
   "cell_type": "code",
   "execution_count": 33,
   "metadata": {
    "collapsed": false,
    "scrolled": true
   },
   "outputs": [
    {
     "name": "stdout",
     "output_type": "stream",
     "text": [
      "+-----------+\n",
      "|      State|\n",
      "+-----------+\n",
      "|    Alabama|\n",
      "|    Arizona|\n",
      "|   Arkansas|\n",
      "| California|\n",
      "|   Colorado|\n",
      "|Connecticut|\n",
      "|   Delaware|\n",
      "|    Florida|\n",
      "|    Georgia|\n",
      "|      Idaho|\n",
      "|   Illinois|\n",
      "|    Indiana|\n",
      "|       Iowa|\n",
      "|     Kansas|\n",
      "|   Kentucky|\n",
      "|  Louisiana|\n",
      "|         MA|\n",
      "|         MO|\n",
      "|      Maine|\n",
      "|   Maryland|\n",
      "+-----------+\n",
      "only showing top 20 rows\n",
      "\n"
     ]
    }
   ],
   "source": [
    "#remove duplicates from column and sort\n",
    "sales_spark.select('State').distinct().orderBy('State').show()"
   ]
  },
  {
   "cell_type": "code",
   "execution_count": 43,
   "metadata": {
    "collapsed": false,
    "scrolled": true
   },
   "outputs": [
    {
     "name": "stdout",
     "output_type": "stream",
     "text": [
      "+--------------+------------------+\n",
      "|         State|   sum(SaleAmount)|\n",
      "+--------------+------------------+\n",
      "|    California|2628823.5999999996|\n",
      "|         Texas|         2037062.8|\n",
      "|      Illinois|         1699669.5|\n",
      "|       Florida|        1653073.85|\n",
      "|          Ohio|1355199.6500000004|\n",
      "|      New York|         1243889.2|\n",
      "|      Michigan|          978653.8|\n",
      "|       Indiana| 876724.2999999998|\n",
      "|     Minnesota|          829628.5|\n",
      "|    Washington|          763403.2|\n",
      "|  Pennsylvania|          758402.6|\n",
      "|North Carolina| 742337.4500000001|\n",
      "|      Virginia| 709548.8999999999|\n",
      "|      Maryland| 653470.4500000002|\n",
      "|       Georgia| 639458.7000000001|\n",
      "|      Colorado|          614703.5|\n",
      "|     Wisconsin|          611186.8|\n",
      "|     Tennessee|          577464.1|\n",
      "|        Oregon|         574299.95|\n",
      "|          Iowa| 568995.7499999999|\n",
      "+--------------+------------------+\n",
      "only showing top 20 rows\n",
      "\n"
     ]
    }
   ],
   "source": [
    "#calculate sale total by state\n",
    "sales_spark.select(sales_spark['State'],sales_spark['SaleAmount']).groupBy('State').sum().orderBy('sum(SaleAmount)', ascending=False).show()"
   ]
  },
  {
   "cell_type": "code",
   "execution_count": 44,
   "metadata": {
    "collapsed": false,
    "scrolled": true
   },
   "outputs": [
    {
     "name": "stdout",
     "output_type": "stream",
     "text": [
      "+-----+-------+----------+--------------+--------+-----+-----------+----+----------+-------------------+--------------------+--------------------+--------------------+---------------+-------+--------+------+-------------------+--------------+--------------------+---------------+------------------+----------------+-----------+----------+--------+----------+\n",
      "|RowID|OrderID| OrderDate|OrderMonthYear|Quantity|Quote|DiscountPct|Rate|SaleAmount|       CustomerName|         CompanyName|              Sector|            Industry|           City|ZipCode|   State|Region|ProjectCompleteDate|DaystoComplete|          ProductKey|ProductCategory|ProductSubCategory|      Consultant|    Manager|HourlyWage|RowCount|WageMargin|\n",
      "+-----+-------+----------+--------------+--------+-----+-----------+----+----------+-------------------+--------------------+--------------------+--------------------+---------------+-------+--------+------+-------------------+--------------+--------------------+---------------+------------------+----------------+-----------+----------+--------+----------+\n",
      "|   14|     70|2010-12-17|    2010-12-01|      48| 6720|       0.03| 140|    6518.4|       Helen Kimmel|          Amgen Inc.|         Health Care|Biotechnology: Bi...|    East Meadow|  11554|New York|  East|         2010-12-22|             5|Development - Dat...|    Development|          Database|    Sophia Dixon|Allen Young|        71|       1|      0.49|\n",
      "|   15|     70|2010-12-17|    2010-12-01|      46| 6900|       0.05| 150|    6555.0|       Helen Kimmel|          Amgen Inc.|         Health Care|Biotechnology: Bi...|    East Meadow|  11554|New York|  East|         2010-12-22|             5|Consulting - Mark...|     Consulting|   Market Research|     Emma Watson|Allen Young|        67|       1|      0.55|\n",
      "|   25|    135|2011-10-20|    2011-10-01|      25| 3750|       0.09| 150|    3412.5|      Anne Van Hugh|Keurig Green Moun...|Consumer Non-Dura...|      Packaged Foods|           Troy|  12180|New York|  East|         2011-10-22|             2|Consulting - Busi...|     Consulting|    Business Model|  William Bufont|Allen Young|        62|       1|      0.59|\n",
      "|   27|    193|2010-08-07|    2010-08-01|      14| 2800|       0.06| 200|    2632.0|       Justin McVee|   TripAdvisor, Inc.|          Technology|Computer Software...|       Bethpage|  11714|New York|  East|         2010-08-09|             2|Development - Big...|    Development|          Big Data|      Ethan Bird|Allen Young|        60|       1|       0.7|\n",
      "|   35|    225|2011-05-24|    2011-05-01|      24| 2880|       0.06| 120|    2707.2|       Karen Gilpin|Verisk Analytics,...|          Technology|        EDP Services|       Holbrook|  11741|New York|  East|         2011-05-25|             1|Development - Bus...|    Development|    Business Logic|    Sophia Dixon|Allen Young|        71|       1|      0.41|\n",
      "|   36|    225|2011-05-24|    2011-05-01|       1|  120|       0.05| 120|     114.0|       Karen Gilpin|Verisk Analytics,...|          Technology|        EDP Services|       Holbrook|  11741|New York|  East|         2011-05-26|             2|Development - Bus...|    Development|    Business Logic|Alexander Edison|Allen Young|        70|       1|      0.42|\n",
      "|   47|    290|2009-01-05|    2009-01-01|      24| 2640|       0.05| 110|    2508.0|       Dorris Engle|Costco Wholesale ...|   Consumer Services|Department/Specia...|      Deer Park|  11729|New York|  East|         2009-01-06|             1|Development - Python|    Development|            Python|      Ava Wilson|Allen Young|        67|       1|      0.39|\n",
      "|  104|    644|2012-04-30|    2012-04-01|       5|  625|       0.01| 125|    618.75|        Bill Rawles|       Staples, Inc.|   Consumer Services|Other Specialty S...|         Auburn|  13021|New York|  East|         2012-05-01|             1|Training - Develo...|       Training|               SQL|      Ava Wilson|Allen Young|        67|       1|      0.46|\n",
      "|  112|    738|2010-03-01|    2010-03-01|       7| 1190|       0.04| 170|    1142.4| Caroline Hernandez| Cisco Systems, Inc.|          Technology|Computer Communic...|   White Plains|  10605|New York|  East|         2010-03-03|             2|  Development - .Net|    Development|               PHP| Michael Alister|Allen Young|        68|       1|       0.6|\n",
      "|  113|    738|2010-03-01|    2010-03-01|      31| 3410|       0.08| 110|    3137.2| Caroline Hernandez| Cisco Systems, Inc.|          Technology|Computer Communic...|   White Plains|  10605|New York|  East|         2010-03-02|             1|Development - Python|    Development|   Market Research|   Liam Franklin|Allen Young|        52|       1|      0.53|\n",
      "|  117|    772|2010-04-16|    2010-04-01|      35| 5950|       0.08| 170|    5474.0|Pamela Boeckenhauer|         Garmin Ltd.|       Capital Goods|Industrial Machin...|      Oceanside|  11572|New York|  East|         2010-04-18|             2|  Development - .Net|    Development|    Business Logic|     Daniel Tusk|Allen Young|        45|       1|      0.74|\n",
      "|  118|    772|2010-04-16|    2010-04-01|      25| 2750|        0.1| 110|    2475.0|Pamela Boeckenhauer|         Garmin Ltd.|       Capital Goods|Industrial Machin...|      Oceanside|  11572|New York|  East|         2010-04-18|             2|   Development - PHP|    Development|              Java|    Madison Hill|Allen Young|        58|       1|      0.47|\n",
      "|  181|   1189|2009-04-08|    2009-04-01|      27| 2970|        0.0| 110|    2970.0|     Aaron Matthias|Adobe Systems Inc...|          Technology|Computer Software...|      Smithtown|  11787|New York|  East|         2009-04-09|             1|   Development - PHP|    Development|               SQL|  William Bufont|Allen Young|        62|       1|      0.44|\n",
      "|  263|   1825|2010-12-04|    2010-12-01|      22| 2640|       0.03| 120|    2560.8|     Aaron Matthias|Adobe Systems Inc...|          Technology|Computer Software...|      Smithtown|  11787|New York|  East|         2010-12-06|             2|Development - Bus...|    Development|    Business Model|  William Bufont|Allen Young|        62|       1|      0.48|\n",
      "|  355|   2467|2011-07-15|    2011-07-01|      30| 4500|       0.09| 150|    4095.0| Caroline Hernandez| Cisco Systems, Inc.|          Technology|Computer Communic...|   White Plains|  10605|New York|  East|         2011-07-16|             1|Consulting - Stra...|     Consulting|    Business Logic|     Emma Watson|Allen Young|        67|       1|      0.55|\n",
      "|  446|   3014|2012-10-29|    2012-10-01|      13| 2080|       0.02| 160|    2038.4|Pamela Boeckenhauer|         Garmin Ltd.|       Capital Goods|Industrial Machin...|       Ossining|  10562|New York|  East|         2012-10-31|             2|  Development - Java|    Development|    Business Model|      Noah Smith|Allen Young|        59|       1|      0.63|\n",
      "|  450|   3073|2009-01-07|    2009-01-01|       3|  480|       0.05| 160|     456.0|      Jasper Galang|           eBay Inc.|       Miscellaneous|   Business Services|Franklin Square|  11010|New York|  East|         2009-01-08|             1|  Development - Java|    Development|   Market Research|     Emma Watson|Allen Young|        67|       1|      0.58|\n",
      "|  451|   3073|2009-01-07|    2009-01-01|       3|  450|       0.07| 150|     418.5|      Jasper Galang|           eBay Inc.|       Miscellaneous|   Business Services|Franklin Square|  11010|New York|  East|         2009-01-08|             1|Consulting - Comp...|     Consulting|          Big Data|      Noah Smith|Allen Young|        59|       1|      0.61|\n",
      "|  452|   3073|2009-01-07|    2009-01-01|       7| 1050|       0.07| 150|     976.5|      Jasper Galang|           eBay Inc.|       Miscellaneous|   Business Services|Franklin Square|  11010|New York|  East|         2009-01-08|             1|Consulting - Stra...|     Consulting|    Business Model|   Liam Franklin|Allen Young|        52|       1|      0.65|\n",
      "|  464|   3168|2012-01-29|    2012-01-01|      14| 1750|       0.04| 125|    1680.0|      Jasper Galang|           eBay Inc.|       Miscellaneous|   Business Services|Franklin Square|  11010|New York|  East|         2012-02-03|             5|      Training - SQL|       Training|    Business Logic|Isabella Douglas|Allen Young|        75|       1|       0.4|\n",
      "+-----+-------+----------+--------------+--------+-----+-----------+----+----------+-------------------+--------------------+--------------------+--------------------+---------------+-------+--------+------+-------------------+--------------+--------------------+---------------+------------------+----------------+-----------+----------+--------+----------+\n",
      "only showing top 20 rows\n",
      "\n"
     ]
    }
   ],
   "source": [
    "#filtering a spark dataframe\n",
    "sales_spark.filter(sales_spark['State']=='New York').show()"
   ]
  },
  {
   "cell_type": "markdown",
   "metadata": {},
   "source": [
    "### Joining tables\n",
    "#### a. Join sales and client info, we want to know the total sales per company in the IPO year"
   ]
  },
  {
   "cell_type": "code",
   "execution_count": 64,
   "metadata": {
    "collapsed": true
   },
   "outputs": [],
   "source": [
    "#using pandas to read existing csv files in local directory\n",
    "client = pd.read_csv('Lynda Datasets/cogsley_clients.csv')"
   ]
  },
  {
   "cell_type": "code",
   "execution_count": 65,
   "metadata": {
    "collapsed": true
   },
   "outputs": [],
   "source": [
    "#create spark dataframe similar to one above\n",
    "client_spark = sqlContext.createDataFrame(client)"
   ]
  },
  {
   "cell_type": "code",
   "execution_count": 66,
   "metadata": {
    "collapsed": false
   },
   "outputs": [
    {
     "name": "stdout",
     "output_type": "stream",
     "text": [
      "root\n",
      " |-- Name: string (nullable = true)\n",
      " |-- Symbol: string (nullable = true)\n",
      " |-- LastSale: string (nullable = true)\n",
      " |-- MarketCapLabel: string (nullable = true)\n",
      " |-- MarketCapAmount: string (nullable = true)\n",
      " |-- IPOyear: string (nullable = true)\n",
      " |-- Sector: string (nullable = true)\n",
      " |-- industry: string (nullable = true)\n",
      " |-- Summary Quote: string (nullable = true)\n",
      "\n"
     ]
    }
   ],
   "source": [
    "client_spark.printSchema()"
   ]
  },
  {
   "cell_type": "markdown",
   "metadata": {},
   "source": [
    "SQL Equivalent\n",
    "``` SQL\n",
    "SELECT CompanyName, IPOYear, Symbol, round(sum(SaleAmount)) as Sales\n",
    "FROM cogsley_sales\n",
    "LEFT JOIN cogsley_clients \n",
    "ON CompanyName = Name\n",
    "GROUP BY CompanyName, IPOYear, Symbol\n",
    "ORDER BY 1\n",
    "```"
   ]
  },
  {
   "cell_type": "markdown",
   "metadata": {},
   "source": [
    "Trying out using Spark DF, might not be the most efficient, happy to get some feedback."
   ]
  },
  {
   "cell_type": "code",
   "execution_count": 68,
   "metadata": {
    "collapsed": false
   },
   "outputs": [],
   "source": [
    "#renaming column names\n",
    "client_spark = client_spark.withColumnRenamed(existing='Name',new='CompanyName')\n",
    "\n",
    "#left join both sales_spark and client_spark table\n",
    "client_sales = sales_spark.join(client_spark, how='left', on='CompanyName')"
   ]
  },
  {
   "cell_type": "code",
   "execution_count": 83,
   "metadata": {
    "collapsed": false
   },
   "outputs": [
    {
     "name": "stdout",
     "output_type": "stream",
     "text": [
      "+--------------------+-------+------+------------------+\n",
      "|         CompanyName|IPOYear|Symbol|   sum(SaleAmount)|\n",
      "+--------------------+-------+------+------------------+\n",
      "|Activision Blizza...|    n/a|  ATVI|         319225.95|\n",
      "|Adobe Systems Inc...|   1986|  ADBE|          266103.3|\n",
      "|Akamai Technologi...|   1999|  AKAM|203202.69999999998|\n",
      "|Alexion Pharmaceu...|   1996|  ALXN|237227.59999999998|\n",
      "|  Altera Corporation|   1988|  ALTR|         181035.35|\n",
      "|    Amazon.com, Inc.|   1997|  AMZN|         260095.35|\n",
      "|American Airlines...|    n/a|   AAL|          292181.7|\n",
      "|          Amgen Inc.|   1983|  AMGN|292386.79999999993|\n",
      "|Analog Devices, Inc.|    n/a|   ADI|          353513.3|\n",
      "|          Apple Inc.|   1980|  AAPL|240962.29999999996|\n",
      "|Applied Materials...|   1972|  AMAT|         289714.75|\n",
      "|      Autodesk, Inc.|    n/a|  ADSK|203777.40000000002|\n",
      "|Automatic Data Pr...|    n/a|   ADP|332082.74999999994|\n",
      "|Avago Technologie...|   2009|  AVGO|267124.44999999995|\n",
      "|         Baidu, Inc.|   2005|  BIDU|          289792.4|\n",
      "|Bed Bath & Beyond...|   1992|  BBBY|          274058.6|\n",
      "|    Biogen Idec Inc.|    n/a|  BIIB|          303572.5|\n",
      "|Broadcom Corporation|   1998|  BRCM|373237.85000000003|\n",
      "|C.H. Robinson Wor...|   1997|  CHRW|232764.09999999998|\n",
      "|             CA Inc.|    n/a|    CA|280715.19999999995|\n",
      "+--------------------+-------+------+------------------+\n",
      "only showing top 20 rows\n",
      "\n"
     ]
    }
   ],
   "source": [
    "#select for relevant columns and sum(SaleAmount) by companyName\n",
    "(client_sales\n",
    ".select('CompanyName','IPOYear','Symbol','SaleAmount')\n",
    ".groupBy('CompanyName','IPOYear','Symbol').sum()\n",
    ".orderBy('CompanyName')\n",
    ".show())"
   ]
  },
  {
   "cell_type": "markdown",
   "metadata": {},
   "source": [
    "#### b. Another join\n",
    "This time we join the state_info table to sales_spark. We want to know the sales amount for each state"
   ]
  },
  {
   "cell_type": "code",
   "execution_count": 85,
   "metadata": {
    "collapsed": true
   },
   "outputs": [],
   "source": [
    "#using pandas to read existing csv files in local directory\n",
    "state = pd.read_csv('Lynda Datasets/state_info.csv')\n",
    "state_spark = sqlContext.createDataFrame(state)"
   ]
  },
  {
   "cell_type": "markdown",
   "metadata": {},
   "source": [
    "SQL Equivalent\n",
    "``` SQL\n",
    "SELECT i.StateCode, round(sum(s.SaleAmount) as Sales\n",
    "FROM cogsley_sales s\n",
    "JOIN state_info i \n",
    "ON s.State = i.State\n",
    "GROUP BY i.StateCode\n",
    "```"
   ]
  },
  {
   "cell_type": "code",
   "execution_count": 88,
   "metadata": {
    "collapsed": false
   },
   "outputs": [
    {
     "name": "stdout",
     "output_type": "stream",
     "text": [
      "+---------+------------------+\n",
      "|StateCode|   sum(SaleAmount)|\n",
      "+---------+------------------+\n",
      "|       MS|         281995.75|\n",
      "|       MT|183637.19999999998|\n",
      "|       TN| 577464.0999999999|\n",
      "|       NC| 742337.4499999998|\n",
      "|       ND|106606.84999999999|\n",
      "|       NE|259548.49999999997|\n",
      "|       NH|         186445.95|\n",
      "|       AL| 439714.3500000001|\n",
      "|       TX|2037062.8000000003|\n",
      "|       NJ|          564572.8|\n",
      "|       NM| 324261.4000000001|\n",
      "|       AR|          439496.7|\n",
      "|       NV|          188015.1|\n",
      "|       AZ|          486961.0|\n",
      "|       NY|1243889.1999999995|\n",
      "|       UT|          496737.3|\n",
      "|       OH|1355199.6500000006|\n",
      "|       OK| 329648.9000000001|\n",
      "|       IA| 568995.7500000001|\n",
      "|       VA| 709548.9000000001|\n",
      "+---------+------------------+\n",
      "only showing top 20 rows\n",
      "\n"
     ]
    }
   ],
   "source": [
    "# Pyspark equivalent\n",
    "(sales_spark\n",
    " .join(state_spark, on='State')\n",
    " .select('StateCode','SaleAmount')\n",
    " .groupBy('StateCode').sum()).show()"
   ]
  },
  {
   "cell_type": "markdown",
   "metadata": {},
   "source": [
    "### MLLib"
   ]
  },
  {
   "cell_type": "code",
   "execution_count": 89,
   "metadata": {
    "collapsed": true
   },
   "outputs": [],
   "source": [
    "from pyspark.mllib.regression import LabeledPoint"
   ]
  },
  {
   "cell_type": "code",
   "execution_count": 90,
   "metadata": {
    "collapsed": false
   },
   "outputs": [
    {
     "name": "stdout",
     "output_type": "stream",
     "text": [
      "+--------------+-----------------+\n",
      "|OrderMonthYear|       SaleAmount|\n",
      "+--------------+-----------------+\n",
      "|    2009-01-01|         741024.2|\n",
      "|    2009-02-01|544241.1499999999|\n",
      "|    2009-03-01|563502.1500000001|\n",
      "|    2009-04-01|619011.3999999999|\n",
      "|    2009-05-01|         641158.7|\n",
      "|    2009-06-01|        558288.55|\n",
      "|    2009-07-01|673657.0999999999|\n",
      "|    2009-08-01|662651.8499999999|\n",
      "|    2009-09-01|        650729.35|\n",
      "|    2009-10-01|        571600.35|\n",
      "|    2009-11-01|566817.6499999999|\n",
      "|    2009-12-01|        560466.65|\n",
      "|    2010-01-01|577707.6000000001|\n",
      "|    2010-02-01|         585992.3|\n",
      "|    2010-03-01|         528872.8|\n",
      "|    2010-04-01|        489686.85|\n",
      "|    2010-05-01|        745586.95|\n",
      "|    2010-06-01|609012.2000000001|\n",
      "|    2010-07-01|        581447.45|\n",
      "|    2010-08-01|         619167.0|\n",
      "+--------------+-----------------+\n",
      "only showing top 20 rows\n",
      "\n"
     ]
    }
   ],
   "source": [
    "#get monthly sales data\n",
    "summary = (sales_spark.select('OrderMonthYear','SaleAmount')\n",
    "           .groupBy('OrderMonthYear').sum()\n",
    "           .orderBy('OrderMonthYear')\n",
    "           .toDF('OrderMonthYear','SaleAmount'))\n",
    "summary.show()"
   ]
  },
  {
   "cell_type": "code",
   "execution_count": 91,
   "metadata": {
    "collapsed": false
   },
   "outputs": [
    {
     "name": "stdout",
     "output_type": "stream",
     "text": [
      "+--------------+-----------------+\n",
      "|OrderMonthYear|       SaleAmount|\n",
      "+--------------+-----------------+\n",
      "|      20090101|         741024.2|\n",
      "|      20090201|544241.1499999999|\n",
      "|      20090301|563502.1500000001|\n",
      "|      20090401|619011.3999999999|\n",
      "|      20090501|         641158.7|\n",
      "|      20090601|        558288.55|\n",
      "|      20090701|673657.0999999999|\n",
      "|      20090801|662651.8499999999|\n",
      "|      20090901|        650729.35|\n",
      "|      20091001|        571600.35|\n",
      "|      20091101|566817.6499999999|\n",
      "|      20091201|        560466.65|\n",
      "|      20100101|577707.6000000001|\n",
      "|      20100201|         585992.3|\n",
      "|      20100301|         528872.8|\n",
      "|      20100401|        489686.85|\n",
      "|      20100501|        745586.95|\n",
      "|      20100601|609012.2000000001|\n",
      "|      20100701|        581447.45|\n",
      "|      20100801|         619167.0|\n",
      "+--------------+-----------------+\n",
      "only showing top 20 rows\n",
      "\n"
     ]
    }
   ],
   "source": [
    "#convert OrderMonthYear to integer type\n",
    "results = (summary.map(lambda r: (int(r.OrderMonthYear.replace('-','')),r.SaleAmount))\n",
    "           .toDF(['OrderMonthYear','SaleAmount']))\n",
    "results.show()"
   ]
  },
  {
   "cell_type": "markdown",
   "metadata": {},
   "source": [
    "for more info about LabeledPoint, refer to https://spark.apache.org/docs/2.2.1/api/java/org/apache/spark/ml/feature/LabeledPoint.html"
   ]
  },
  {
   "cell_type": "code",
   "execution_count": 94,
   "metadata": {
    "collapsed": false
   },
   "outputs": [
    {
     "name": "stdout",
     "output_type": "stream",
     "text": [
      "+-------------+-----------------+\n",
      "|     features|            label|\n",
      "+-------------+-----------------+\n",
      "|[2.0090101E7]|         741024.2|\n",
      "|[2.0090201E7]|544241.1499999999|\n",
      "|[2.0090301E7]|563502.1500000001|\n",
      "|[2.0090401E7]|619011.3999999999|\n",
      "|[2.0090501E7]|         641158.7|\n",
      "|[2.0090601E7]|        558288.55|\n",
      "|[2.0090701E7]|673657.0999999999|\n",
      "|[2.0090801E7]|662651.8499999999|\n",
      "|[2.0090901E7]|        650729.35|\n",
      "|[2.0091001E7]|        571600.35|\n",
      "|[2.0091101E7]|566817.6499999999|\n",
      "|[2.0091201E7]|        560466.65|\n",
      "|[2.0100101E7]|577707.6000000001|\n",
      "|[2.0100201E7]|         585992.3|\n",
      "|[2.0100301E7]|         528872.8|\n",
      "|[2.0100401E7]|        489686.85|\n",
      "|[2.0100501E7]|        745586.95|\n",
      "|[2.0100601E7]|609012.2000000001|\n",
      "|[2.0100701E7]|        581447.45|\n",
      "|[2.0100801E7]|         619167.0|\n",
      "+-------------+-----------------+\n",
      "only showing top 20 rows\n",
      "\n"
     ]
    }
   ],
   "source": [
    "#convert dataframe to features and labels\n",
    "data = (results.select('OrderMonthYear','SaleAmount')\n",
    "        .map(lambda r: LabeledPoint(r[1],[r[0]]))\n",
    "        .toDF())\n",
    "data.show()"
   ]
  },
  {
   "cell_type": "markdown",
   "metadata": {},
   "source": [
    "#### Building Linear Regression Model"
   ]
  },
  {
   "cell_type": "code",
   "execution_count": 95,
   "metadata": {
    "collapsed": false
   },
   "outputs": [
    {
     "name": "stderr",
     "output_type": "stream",
     "text": [
      "/opt/cloudera/parcels/CDH-5.9.0-1.cdh5.9.0.p0.23/lib/spark/python/pyspark/ml/regression.py:123: UserWarning: weights is deprecated. Use coefficients instead.\n",
      "  warnings.warn(\"weights is deprecated. Use coefficients instead.\")\n"
     ]
    }
   ],
   "source": [
    "#import\n",
    "from pyspark.ml.regression import LinearRegression\n",
    "lr=LinearRegression()\n",
    "\n",
    "#fit 2 regression models\n",
    "lr_1 = lr.fit(data, {lr.regParam:0.0})\n",
    "lr_2 = lr.fit(data, {lr.regParam:100.0})\n",
    "\n",
    "#predict on the data\n",
    "predict_1 = lr_1.transform(data)\n",
    "predict_2 = lr_2.transform(data)"
   ]
  },
  {
   "cell_type": "code",
   "execution_count": 96,
   "metadata": {
    "collapsed": false
   },
   "outputs": [
    {
     "name": "stdout",
     "output_type": "stream",
     "text": [
      "+-------------+-----------------+-----------------+\n",
      "|     features|            label|       prediction|\n",
      "+-------------+-----------------+-----------------+\n",
      "|[2.0090101E7]|         741024.2|607367.4184938967|\n",
      "|[2.0090201E7]|544241.1499999999|607347.2708133357|\n",
      "|[2.0090301E7]|563502.1500000001|607327.1231327746|\n",
      "|[2.0090401E7]|619011.3999999999|607306.9754522135|\n",
      "|[2.0090501E7]|         641158.7|607286.8277716525|\n",
      "|[2.0090601E7]|        558288.55|607266.6800910919|\n",
      "|[2.0090701E7]|673657.0999999999|607246.5324105308|\n",
      "|[2.0090801E7]|662651.8499999999|607226.3847299698|\n",
      "|[2.0090901E7]|        650729.35|607206.2370494087|\n",
      "|[2.0091001E7]|        571600.35|607186.0893688477|\n",
      "|[2.0091101E7]|566817.6499999999|607165.9416882871|\n",
      "|[2.0091201E7]|        560466.65| 607145.794007726|\n",
      "|[2.0100101E7]|577707.6000000001|605352.6504378002|\n",
      "|[2.0100201E7]|         585992.3|605332.5027572396|\n",
      "|[2.0100301E7]|         528872.8|605312.3550766786|\n",
      "|[2.0100401E7]|        489686.85|605292.2073961175|\n",
      "|[2.0100501E7]|        745586.95|605272.0597155564|\n",
      "|[2.0100601E7]|609012.2000000001|605251.9120349959|\n",
      "|[2.0100701E7]|        581447.45|605231.7643544348|\n",
      "|[2.0100801E7]|         619167.0|605211.6166738737|\n",
      "+-------------+-----------------+-----------------+\n",
      "only showing top 20 rows\n",
      "\n"
     ]
    }
   ],
   "source": [
    "predict_1.show()"
   ]
  },
  {
   "cell_type": "code",
   "execution_count": 99,
   "metadata": {
    "collapsed": false,
    "scrolled": true
   },
   "outputs": [
    {
     "name": "stdout",
     "output_type": "stream",
     "text": [
      "Model 1: Root Mean Squared Error = 69171.4670091\n",
      "Model 2: Root Mean Squared Error = 69171.4670855\n",
      "Both models are about the same in accuracy\n"
     ]
    }
   ],
   "source": [
    "#evaluating the lr model\n",
    "from pyspark.ml.evaluation import RegressionEvaluator\n",
    "\n",
    "evaluator = RegressionEvaluator(metricName = 'rmse')\n",
    "RMSE1 = evaluator.evaluate(predict_1)\n",
    "print('Model 1: Root Mean Squared Error = ' + str(RMSE1))\n",
    "\n",
    "RMSE2 = evaluator.evaluate(predict_2)\n",
    "print('Model 2: Root Mean Squared Error = ' + str(RMSE2))\n",
    "\n",
    "print('Both models are about the same in accuracy')"
   ]
  },
  {
   "cell_type": "markdown",
   "metadata": {},
   "source": [
    "### Visualisation"
   ]
  },
  {
   "cell_type": "code",
   "execution_count": 116,
   "metadata": {
    "collapsed": false
   },
   "outputs": [],
   "source": [
    "#definte col names\n",
    "cols = ['OrderMonthYear','SaleAmount','Prediction']\n",
    "\n",
    "#use parallelize to create an RDD\n",
    "#use map() with lambda to parse functions\n",
    "table1 = (sc.parallelize(\n",
    "    predict_1.map(lambda r: (float(r.features[0]), r.label, r.prediction))\n",
    "    .collect())\n",
    "    .toDF(cols))\n",
    "\n",
    "#repeat for table2\n",
    "table2 = (sc.parallelize(\n",
    "    predict_2.map(lambda r: (float(r.features[0]), r.label, r.prediction))\n",
    "    .collect())\n",
    "    .toDF(cols))\n",
    "\n"
   ]
  },
  {
   "cell_type": "code",
   "execution_count": 117,
   "metadata": {
    "collapsed": false
   },
   "outputs": [
    {
     "name": "stdout",
     "output_type": "stream",
     "text": [
      "+--------------+------------------+-----------------+------------------+-----------------+\n",
      "|OrderMonthYear|        SaleAmount|      Prediction1|        SaleAmount|      Prediction2|\n",
      "+--------------+------------------+-----------------+------------------+-----------------+\n",
      "|   2.0100901E7|          659913.3|605191.4689933127|          659913.3|605190.0881803096|\n",
      "|   2.0110501E7|          696151.3|603257.2916594604|          696151.3|603258.7015422098|\n",
      "|   2.0120101E7|         602932.75|601323.1143256081|         602932.75|  601327.31490411|\n",
      "|   2.0111001E7|         549811.15|603156.5532566556|         549811.15| 603158.108488142|\n",
      "|   2.0120601E7| 526292.5499999999|601222.3759228033| 526292.5499999999|601226.7218500422|\n",
      "|   2.0121101E7|461701.04999999993|601121.6375199985|461701.04999999993|601126.1287959744|\n",
      "|   2.0091201E7|         560466.65| 607145.794007726|         560466.65|607141.5934292227|\n",
      "|   2.0100801E7|          619167.0|605211.6166738737|          619167.0|605210.2067911229|\n",
      "|   2.0110401E7| 627272.3499999999|603277.4393400215| 627272.3499999999|603278.8201530231|\n",
      "|   2.0110901E7| 537978.0499999999|603176.7009372166| 537978.0499999999|603178.2270989553|\n",
      "|   2.0120501E7| 775193.6500000001|601242.5236033644| 775193.6500000001|601246.8404608555|\n",
      "|   2.0121001E7| 669507.0499999998|601141.7852005595| 669507.0499999998|601146.2474067882|\n",
      "|   2.0101201E7| 653012.0499999999|  605131.02595163| 653012.0499999999|605129.7323478688|\n",
      "|   2.0110801E7|         503955.35|603196.8486177777|         503955.35| 603198.345709769|\n",
      "|   2.0120401E7| 631801.4000000001|601262.6712839254| 631801.4000000001|601266.9590716693|\n",
      "|   2.0120901E7| 728345.6499999999|601161.9328811206| 728345.6499999999|601166.3660176015|\n",
      "|   2.0111201E7| 673133.9500000001|603116.2578955339| 673133.9500000001| 603117.871266515|\n",
      "|   2.0120801E7| 660949.2000000002|601182.0805616817| 660949.2000000002|601186.4846284152|\n",
      "|   2.0090301E7| 563502.1500000001|607327.1231327746| 563502.1500000001|607322.6609265446|\n",
      "|   2.0121201E7|          536516.0|601101.4898394379|          536516.0|601106.0101851607|\n",
      "+--------------+------------------+-----------------+------------------+-----------------+\n",
      "only showing top 20 rows\n",
      "\n"
     ]
    }
   ],
   "source": [
    "#join both tables on ordermonthyear\n",
    "table = table1.withColumnRenamed('Prediction','Prediction1').join(table2.withColumnRenamed('Prediction','Prediction2'), on='OrderMonthYear')\n",
    "table.show()"
   ]
  },
  {
   "cell_type": "markdown",
   "metadata": {},
   "source": [
    "There's no built-in PySpark API for visualisation tools. Convert to Pandas Dataframe before plotting"
   ]
  },
  {
   "cell_type": "code",
   "execution_count": 148,
   "metadata": {
    "collapsed": false
   },
   "outputs": [
    {
     "data": {
      "text/html": [
       "<div>\n",
       "<table border=\"1\" class=\"dataframe\">\n",
       "  <thead>\n",
       "    <tr style=\"text-align: right;\">\n",
       "      <th></th>\n",
       "      <th>OrderMonthYear</th>\n",
       "      <th>SaleAmount</th>\n",
       "      <th>Prediction1</th>\n",
       "      <th>SaleAmount</th>\n",
       "      <th>Prediction2</th>\n",
       "    </tr>\n",
       "  </thead>\n",
       "  <tbody>\n",
       "    <tr>\n",
       "      <th>0</th>\n",
       "      <td>2010-09-01</td>\n",
       "      <td>659913.30</td>\n",
       "      <td>605191.468993</td>\n",
       "      <td>659913.30</td>\n",
       "      <td>605190.088180</td>\n",
       "    </tr>\n",
       "    <tr>\n",
       "      <th>1</th>\n",
       "      <td>2011-05-01</td>\n",
       "      <td>696151.30</td>\n",
       "      <td>603257.291659</td>\n",
       "      <td>696151.30</td>\n",
       "      <td>603258.701542</td>\n",
       "    </tr>\n",
       "    <tr>\n",
       "      <th>2</th>\n",
       "      <td>2012-01-01</td>\n",
       "      <td>602932.75</td>\n",
       "      <td>601323.114326</td>\n",
       "      <td>602932.75</td>\n",
       "      <td>601327.314904</td>\n",
       "    </tr>\n",
       "    <tr>\n",
       "      <th>3</th>\n",
       "      <td>2011-10-01</td>\n",
       "      <td>549811.15</td>\n",
       "      <td>603156.553257</td>\n",
       "      <td>549811.15</td>\n",
       "      <td>603158.108488</td>\n",
       "    </tr>\n",
       "    <tr>\n",
       "      <th>4</th>\n",
       "      <td>2012-06-01</td>\n",
       "      <td>526292.55</td>\n",
       "      <td>601222.375923</td>\n",
       "      <td>526292.55</td>\n",
       "      <td>601226.721850</td>\n",
       "    </tr>\n",
       "  </tbody>\n",
       "</table>\n",
       "</div>"
      ],
      "text/plain": [
       "  OrderMonthYear  SaleAmount    Prediction1  SaleAmount    Prediction2\n",
       "0     2010-09-01   659913.30  605191.468993   659913.30  605190.088180\n",
       "1     2011-05-01   696151.30  603257.291659   696151.30  603258.701542\n",
       "2     2012-01-01   602932.75  601323.114326   602932.75  601327.314904\n",
       "3     2011-10-01   549811.15  603156.553257   549811.15  603158.108488\n",
       "4     2012-06-01   526292.55  601222.375923   526292.55  601226.721850"
      ]
     },
     "execution_count": 148,
     "metadata": {},
     "output_type": "execute_result"
    }
   ],
   "source": [
    "import matplotlib.pyplot as plt\n",
    "%matplotlib inline\n",
    "\n",
    "table_pd = table.toPandas()\n",
    "table_pd['OrderMonthYear'] = pd.to_datetime(table_pd['OrderMonthYear'], format='%Y%m%d')\n",
    "table_pd.head()"
   ]
  },
  {
   "cell_type": "code",
   "execution_count": 158,
   "metadata": {
    "collapsed": false
   },
   "outputs": [
    {
     "data": {
      "image/png": "[encoded data removed]",
      "text/plain": [
       "<matplotlib.figure.Figure at 0x7f3d0d557e90>"
      ]
     },
     "metadata": {},
     "output_type": "display_data"
    }
   ],
   "source": [
    "fig = plt.figure(figsize=(15,4))\n",
    "ax = plt.axes()\n",
    "# plt.ylim(605150,605300)\n",
    "plt.title('Plot of Actual & Predicted SaleAmount over Time')\n",
    "table_pd.plot(x='OrderMonthYear',y='Prediction1', color='blue', style='.',label='Prediction 1', ax=ax)\n",
    "table_pd.plot(x='OrderMonthYear',y='Prediction2', color='red',style='-.', label='Prediction 2', ax=ax)\n",
    "table_pd.plot(x='OrderMonthYear', y='SaleAmount', color='gray', style='--', ax=ax)\n",
    "plt.show()"
   ]
  },
  {
   "cell_type": "markdown",
   "metadata": {},
   "source": [
    "### Setting up Spark"
   ]
  },
  {
   "cell_type": "markdown",
   "metadata": {},
   "source": [
    "Download Spark from https://spark.apache.org/ <br>\n",
    "Download Java SDK from http://www.oracle.com/technetwork/java/javase/downloads/jdk8-downloads-2133151.html\n",
    "\n",
    "Setting up the executable file from downloaded Spark\n",
    "\n",
    "For Mac:\n",
    "\n",
    "ls <br>\n",
    "mkdir spark <br>\n",
    "#copy recursively <br>\n",
    "cp -r Downloads/Spark-1.6.3-bin-hadoop2.6/* spark/ <br>\n",
    "ls <br>\n",
    "cd spark\n",
    "\n",
    "To run spark, type: <br>\n",
    "./bin/pyspark"
   ]
  },
  {
   "cell_type": "markdown",
   "metadata": {},
   "source": [
    "### Connecting to Jupyter notebook"
   ]
  },
  {
   "cell_type": "markdown",
   "metadata": {},
   "source": [
    "For Mac:\n",
    "\n",
    "1) Set path for Spark and adjust to the correct path to Spark <br>\n",
    "echo “export PATH=$PATH:/[#path_to_downloaded_spark]/spark-1.6.0/bin” >> .profile <br>\n",
    "\n",
    "2) Setting up PySpark driver <br>\n",
    "echo “export PYSPARK_DRIVER_PYTHON=ipython” >> .profile <br>\n",
    "\n",
    "3) Specifies PySpark options <br>\n",
    "echo “export PYSPARK_DRIVER_PYTHON_OPTS=‘notebook’ pyspark” >> .profile <br>\n",
    "\n",
    "source .profile <br>\n",
    "mkdir notebooks <br>\n",
    "cd notebooks/ <br>\n",
    "pyspark <br>\n",
    "\n",
    "For Windows <br>\n",
    "1) Puts Spark in a path variable so you can execute commandlets from that directory.  Adjust to your own directory. <br>\n",
    "$env:Path += “;C:\\Users\\bsullins\\spark\\bin\\” <br>\n",
    "\n",
    "2) Set vars for PySpark <br>\n",
    "$env:PYSPARK_DRIVER_PYTHON=“ipython” <br>\n",
    "\n",
    "3) Specifies PySpark options <br>\n",
    "$env:PYSPARK_DRIVER_PYTHON_OPTS=“notebook” <br>\n",
    "\n",
    "Enter in the following commands instead of source .profile <br>\n",
    "cd ../ <br>\n",
    "cd .\\notebooks\\ <br>\n",
    "pyspark <br>\n",
    "\n"
   ]
  }
 ],
 "metadata": {
  "kernelspec": {
   "display_name": "Python 2",
   "language": "python",
   "name": "python2"
  },
  "language_info": {
   "codemirror_mode": {
    "name": "ipython",
    "version": 2
   },
   "file_extension": ".py",
   "mimetype": "text/x-python",
   "name": "python",
   "nbconvert_exporter": "python",
   "pygments_lexer": "ipython2",
   "version": "2.7.13"
  }
 },
 "nbformat": 4,
 "nbformat_minor": 2
}
